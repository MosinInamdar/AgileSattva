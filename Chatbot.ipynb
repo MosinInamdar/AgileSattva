{
  "nbformat": 4,
  "nbformat_minor": 0,
  "metadata": {
    "colab": {
      "provenance": [],
      "authorship_tag": "ABX9TyPTgdr7qqn7gbRKUTy/k+KL",
      "include_colab_link": true
    },
    "kernelspec": {
      "name": "python3",
      "display_name": "Python 3"
    },
    "language_info": {
      "name": "python"
    }
  },
  "cells": [
    {
      "cell_type": "markdown",
      "metadata": {
        "id": "view-in-github",
        "colab_type": "text"
      },
      "source": [
        "<a href=\"https://colab.research.google.com/github/MosinInamdar/AgileSattva/blob/main/Chatbot.ipynb\" target=\"_parent\"><img src=\"https://colab.research.google.com/assets/colab-badge.svg\" alt=\"Open In Colab\"/></a>"
      ]
    },
    {
      "cell_type": "code",
      "execution_count": 9,
      "metadata": {
        "colab": {
          "base_uri": "https://localhost:8080/"
        },
        "id": "XYLJQg1soMUR",
        "outputId": "8859037e-33e4-4bf5-ccc2-00a5efe37b4f"
      },
      "outputs": [
        {
          "output_type": "stream",
          "name": "stderr",
          "text": [
            "[nltk_data] Downloading package punkt to /root/nltk_data...\n",
            "[nltk_data]   Package punkt is already up-to-date!\n"
          ]
        },
        {
          "output_type": "stream",
          "name": "stdout",
          "text": [
            "Welcome to VehicleInfo System!\n",
            "Ask about any vehicle. Type exit to end the conversation\n",
            "You: tell me something about car\n",
            "Bot:  Cars are 4 wheel drivers that are commonly used for transportation\n",
            "You: exit\n",
            "Exiting....\n"
          ]
        }
      ],
      "source": [
        "import nltk\n",
        "from nltk.chat.util import Chat, reflections\n",
        "\n",
        "patterns = [\n",
        "    (r'(.*) car', ['Cars are 4 wheel drivers that are commonly used for transportation']),\n",
        "    (r'(.*) bus', ['Buses are 2 wheel drivers that are commonly used for transportation']),\n",
        "    (r'(.*) truck', ['Trucks are 3 wheel drivers that are commonly used for transportation']),\n",
        "    (r'(.*) boat', ['Boats are 4 wheel drivers that are commonly used for transportation']),\n",
        "    (r'(.*) plane', ['Planes are 5 wheel drivers that are commonly used for transportation']),\n",
        "    (r'(.*) train', ['Trains are 6 wheel drivers that are commonly used for transportation']),\n",
        "    (r'(.*) motorcycle', ['Motorcycles are 7 wheel drivers that are commonly used for transportation']),\n",
        "    (r'(.*) bicycle', ['Bicycles are 8 wheel drivers that are commonly used for transportation']),\n",
        "]\n",
        "\n",
        "#create a chatbot\n",
        "chatbot = Chat(patterns, reflections)\n",
        "\n",
        "\n",
        "# Define a function to start the conversation\n",
        "def vehicle_info_system():\n",
        "    print(\"Welcome to VehicleInfo System!\")\n",
        "    print(\"Ask about any vehicle. Type exit to end the conversation\")\n",
        "    while True:\n",
        "        user_input = input(\"You: \")\n",
        "        if user_input.lower() == \"exit\":\n",
        "          print(\"Exiting....\")\n",
        "          break\n",
        "        else:\n",
        "          response = chatbot.respond(user_input)\n",
        "          print(\"Bot: \", response)\n",
        "\n",
        "# Start the conversation\n",
        "if __name__ == '__main__':\n",
        "    nltk.download('punkt')\n",
        "    vehicle_info_system()"
      ]
    }
  ]
}